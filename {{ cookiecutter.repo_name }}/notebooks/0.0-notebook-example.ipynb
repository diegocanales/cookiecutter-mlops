{
 "cells": [
  {
   "cell_type": "markdown",
   "metadata": {},
   "source": [
    "# Notebooks workflow example"
   ]
  },
  {
   "cell_type": "markdown",
   "metadata": {},
   "source": [
    "## TLDR\n",
    "\n",
    "1. Create a notebook for task prototyping (EDA, processing, train, etc)\n",
    "2. Add the following comands in the first cell to autoreload the library.\n",
    "\n",
    "    ```bash\n",
    "    %load_ext autoreload\n",
    "    %autoreload 2\n",
    "    ```\n",
    "\n",
    "3. When refactoring your notebook code, move the final functions to the `{{ cookiecutter.package_name }}/` directory.\n",
    "4. Import the library and the new functions in the notebook.\n",
    "5. Make changes in the functions from the `{{ cookiecutter.package_name }}` folder and the changes will be reflected thanks to the autoreload command.\n",
    "6. (Recomended) Separate notebooks into smaller notebooks to make debugging easier."
   ]
  },
  {
   "cell_type": "markdown",
   "metadata": {},
   "source": [
    "Add the following cell to autoreload the modules."
   ]
  },
  {
   "cell_type": "code",
   "execution_count": null,
   "metadata": {},
   "outputs": [],
   "source": [
    "%load_ext autoreload\n",
    "%autoreload 2"
   ]
  },
  {
   "cell_type": "code",
   "execution_count": null,
   "metadata": {},
   "outputs": [],
   "source": [
    "from {{ cookiecutter.package_name }} import paths"
   ]
  },
  {
   "cell_type": "code",
   "execution_count": null,
   "metadata": {},
   "outputs": [],
   "source": [
    "# example path to raw\n",
    "DATA_RAW_DIR = paths.data_raw_dir(\"\")\n",
    "DATA_RAW_DIR"
   ]
  }
 ],
 "metadata": {
  "interpreter": {
   "hash": "02b29b6d96ad724f374cd2afa96db9f09ce08f7a07cbd1f1dd8ae8aaa907a3f3"
  },
  "kernelspec": {
   "display_name": "Python 3.8.12 ('lemu-dev')",
   "language": "python",
   "name": "python3"
  },
  "language_info": {
   "codemirror_mode": {
    "name": "ipython",
    "version": 3
   },
   "file_extension": ".py",
   "mimetype": "text/x-python",
   "name": "python",
   "nbconvert_exporter": "python",
   "pygments_lexer": "ipython3",
   "version": "3.8.12"
  },
  "orig_nbformat": 4
 },
 "nbformat": 4,
 "nbformat_minor": 2
}
